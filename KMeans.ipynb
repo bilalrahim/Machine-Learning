{
  "nbformat": 4,
  "nbformat_minor": 0,
  "metadata": {
    "colab": {
      "name": "KMeans",
      "provenance": [],
      "authorship_tag": "ABX9TyM3tGtwolIy3GWjhnpNVEeo",
      "include_colab_link": true
    },
    "kernelspec": {
      "name": "python3",
      "display_name": "Python 3"
    }
  },
  "cells": [
    {
      "cell_type": "markdown",
      "metadata": {
        "id": "view-in-github",
        "colab_type": "text"
      },
      "source": [
        "<a href=\"https://colab.research.google.com/github/bilalrahim/Machine-Learning/blob/main/KMeans.ipynb\" target=\"_parent\"><img src=\"https://colab.research.google.com/assets/colab-badge.svg\" alt=\"Open In Colab\"/></a>"
      ]
    },
    {
      "cell_type": "code",
      "metadata": {
        "id": "QWIUHhhNZP3_"
      },
      "source": [
        "X = [[1, 1], [2, 2], [3, 3], [4, 10], [6, 8], [5, 1]]"
      ],
      "execution_count": null,
      "outputs": []
    },
    {
      "cell_type": "code",
      "metadata": {
        "id": "JtY1zZJLZgLN"
      },
      "source": [
        "from sklearn.cluster import KMeans"
      ],
      "execution_count": null,
      "outputs": []
    },
    {
      "cell_type": "code",
      "metadata": {
        "id": "zv98Pt-jZkqb"
      },
      "source": [
        "model = KMeans(n_clusters = 2)"
      ],
      "execution_count": null,
      "outputs": []
    },
    {
      "cell_type": "code",
      "metadata": {
        "colab": {
          "base_uri": "https://localhost:8080/"
        },
        "id": "DFFHHRA4ZpfY",
        "outputId": "7e9cab51-b7e2-4ba1-d0cf-cbe9d9c73f3f"
      },
      "source": [
        "model.fit(X)"
      ],
      "execution_count": null,
      "outputs": [
        {
          "output_type": "execute_result",
          "data": {
            "text/plain": [
              "KMeans(algorithm='auto', copy_x=True, init='k-means++', max_iter=300,\n",
              "       n_clusters=2, n_init=10, n_jobs=None, precompute_distances='auto',\n",
              "       random_state=None, tol=0.0001, verbose=0)"
            ]
          },
          "metadata": {
            "tags": []
          },
          "execution_count": 4
        }
      ]
    },
    {
      "cell_type": "code",
      "metadata": {
        "colab": {
          "base_uri": "https://localhost:8080/"
        },
        "id": "35yKoxc4Zq1y",
        "outputId": "9444cbae-0ab1-4675-a7ed-4889b885d411"
      },
      "source": [
        "model.labels_"
      ],
      "execution_count": null,
      "outputs": [
        {
          "output_type": "execute_result",
          "data": {
            "text/plain": [
              "array([0, 0, 0, 1, 1, 0], dtype=int32)"
            ]
          },
          "metadata": {
            "tags": []
          },
          "execution_count": 5
        }
      ]
    },
    {
      "cell_type": "code",
      "metadata": {
        "colab": {
          "base_uri": "https://localhost:8080/"
        },
        "id": "lltB1146Zt9y",
        "outputId": "02ac9ee8-2bd8-452f-926e-3a962e395a09"
      },
      "source": [
        "# Cost of model.\n",
        "model.inertia_"
      ],
      "execution_count": null,
      "outputs": [
        {
          "output_type": "execute_result",
          "data": {
            "text/plain": [
              "15.5"
            ]
          },
          "metadata": {
            "tags": []
          },
          "execution_count": 6
        }
      ]
    },
    {
      "cell_type": "code",
      "metadata": {
        "id": "dPz0UYrjZ4xN"
      },
      "source": [
        "from matplotlib import pyplot as plt"
      ],
      "execution_count": null,
      "outputs": []
    },
    {
      "cell_type": "code",
      "metadata": {
        "id": "wLGOFqMfcE4N"
      },
      "source": [
        "x = [X[i][0] for i in range(0, len(X))]"
      ],
      "execution_count": null,
      "outputs": []
    },
    {
      "cell_type": "code",
      "metadata": {
        "id": "dUQMjmANcllj"
      },
      "source": [
        "y = [X[i][1] for i in range(0, len(X))]"
      ],
      "execution_count": null,
      "outputs": []
    },
    {
      "cell_type": "code",
      "metadata": {
        "colab": {
          "base_uri": "https://localhost:8080/",
          "height": 296
        },
        "id": "q9DaJDvkaNGO",
        "outputId": "729c309a-c9c2-4d67-acea-b2c777d3dade"
      },
      "source": [
        "plt.figure()\n",
        "plt.plot(x,y, 'ro')\n",
        "plt.xlabel('x')\n",
        "plt.ylabel('y')"
      ],
      "execution_count": null,
      "outputs": [
        {
          "output_type": "execute_result",
          "data": {
            "text/plain": [
              "Text(0, 0.5, 'y')"
            ]
          },
          "metadata": {
            "tags": []
          },
          "execution_count": 22
        },
        {
          "output_type": "display_data",
          "data": {
            "image/png": "[encoded data removed]",
            "text/plain": [
              "<Figure size 432x288 with 1 Axes>"
            ]
          },
          "metadata": {
            "tags": [],
            "needs_background": "light"
          }
        }
      ]
    },
    {
      "cell_type": "code",
      "metadata": {
        "colab": {
          "base_uri": "https://localhost:8080/"
        },
        "id": "2cPi2DL_dAiQ",
        "outputId": "f4fbe418-4dd9-4f95-f76d-0de54343adc8"
      },
      "source": [
        "X"
      ],
      "execution_count": null,
      "outputs": [
        {
          "output_type": "execute_result",
          "data": {
            "text/plain": [
              "[[1, 1], [2, 2], [3, 3], [4, 10], [6, 8], [5, 1]]"
            ]
          },
          "metadata": {
            "tags": []
          },
          "execution_count": 18
        }
      ]
    },
    {
      "cell_type": "code",
      "metadata": {
        "id": "45cnsY7ZdMkW"
      },
      "source": [
        "k = {}\n",
        "\n",
        "for i in range(1,7):\n",
        "  kn = KMeans(n_clusters = i)\n",
        "  kn.fit(X)\n",
        "  k[i] = kn.inertia_"
      ],
      "execution_count": null,
      "outputs": []
    },
    {
      "cell_type": "code",
      "metadata": {
        "colab": {
          "base_uri": "https://localhost:8080/",
          "height": 282
        },
        "id": "dI2b-mTXeHag",
        "outputId": "78b21209-2b31-487a-9f44-241ef2b27f03"
      },
      "source": [
        "plt.figure()\n",
        "plt.plot(list(k.keys()), list(k.values()))"
      ],
      "execution_count": null,
      "outputs": [
        {
          "output_type": "execute_result",
          "data": {
            "text/plain": [
              "[<matplotlib.lines.Line2D at 0x7f8b5a3cd9e8>]"
            ]
          },
          "metadata": {
            "tags": []
          },
          "execution_count": 23
        },
        {
          "output_type": "display_data",
          "data": {
            "image/png": "[encoded data removed]",
            "text/plain": [
              "<Figure size 432x288 with 1 Axes>"
            ]
          },
          "metadata": {
            "tags": [],
            "needs_background": "light"
          }
        }
      ]
    },
    {
      "cell_type": "code",
      "metadata": {
        "id": "-UIUA5zcezJE"
      },
      "source": [
        "# 2 being on the elbow, seems to be the suitable value for number of clusters."
      ],
      "execution_count": null,
      "outputs": []
    }
  ]
}