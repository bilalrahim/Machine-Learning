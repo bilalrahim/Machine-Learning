{
  "nbformat": 4,
  "nbformat_minor": 0,
  "metadata": {
    "colab": {
      "name": "Assignment01.ipynb",
      "provenance": [],
      "collapsed_sections": []
    },
    "kernelspec": {
      "name": "python3",
      "display_name": "Python 3"
    }
  },
  "cells": [
    {
      "cell_type": "markdown",
      "metadata": {
        "id": "WcyeSh1RiG_l"
      },
      "source": [
        "Assignment 1 \\\n",
        "Linear Regression \\\n",
        "Desc : Finding the most suitable theta values for the given data set."
      ]
    },
    {
      "cell_type": "code",
      "metadata": {
        "id": "5g2fvPK-lEX9"
      },
      "source": [
        "import random as rand"
      ],
      "execution_count": null,
      "outputs": []
    },
    {
      "cell_type": "code",
      "metadata": {
        "id": "aHMRA44gibLl",
        "outputId": "30120386-1c3a-4ca7-b803-9dd1c1cdeaf2",
        "colab": {
          "base_uri": "https://localhost:8080/",
          "height": 34
        }
      },
      "source": [
        "#Mounting Drive to import the text file.\n",
        "from google.colab import drive\n",
        "drive.mount('/content/drive')"
      ],
      "execution_count": null,
      "outputs": [
        {
          "output_type": "stream",
          "text": [
            "Mounted at /content/drive\n"
          ],
          "name": "stdout"
        }
      ]
    },
    {
      "cell_type": "code",
      "metadata": {
        "id": "VsXcaam-oIEs"
      },
      "source": [
        "data = open('/content/drive/My Drive/Data Sets/regression.txt').read()"
      ],
      "execution_count": null,
      "outputs": []
    },
    {
      "cell_type": "code",
      "metadata": {
        "id": "cfYUcbNyobys"
      },
      "source": [
        "data = data.split('\\n')"
      ],
      "execution_count": null,
      "outputs": []
    },
    {
      "cell_type": "code",
      "metadata": {
        "id": "vUTwM_fo00ZY"
      },
      "source": [
        "struct_data = []\n",
        "for rows in data:\n",
        "  temp1 , temp2= rows.split('  ')\n",
        "  li = [temp1,temp2]\n",
        "  struct_data.append(li)\n",
        "\n",
        "#Age on 0th index and bloodpreasure on 1st index of the 2D list struct_data"
      ],
      "execution_count": null,
      "outputs": []
    },
    {
      "cell_type": "markdown",
      "metadata": {
        "id": "OJ0FyfCKqQtI"
      },
      "source": [
        "Hypothesis \\\n",
        "ht(x) = t0 + t1x      t = theta \\\n",
        "Cost Function \\\n",
        "J(t1,t2) = 1/2m sum to 30 (ht(xi) - yi)^2 "
      ]
    },
    {
      "cell_type": "code",
      "metadata": {
        "id": "9oZhBZfnssqp"
      },
      "source": [
        "#Hypothesis Function\n",
        "def hypothesis(t1,t2,x):\n",
        "  return (t1+(t2*x))"
      ],
      "execution_count": null,
      "outputs": []
    },
    {
      "cell_type": "code",
      "metadata": {
        "id": "HzReGGpbsAb4"
      },
      "source": [
        "#Cost Function\n",
        "def cost(t1,t2,d):\n",
        "  sum = 0\n",
        "  g1 = d[0][0]\n",
        "  g2 = d[0][1]\n",
        "  for i in d:\n",
        "    temp = ((hypothesis(t1,t2,(int(i[0])))) - int(i[1]))**2\n",
        "    sum += temp\n",
        "  return 1/60 * sum"
      ],
      "execution_count": null,
      "outputs": []
    },
    {
      "cell_type": "code",
      "metadata": {
        "id": "kKF66MwysBYZ",
        "outputId": "54a24fa7-3494-4f28-c7d1-87a89c98de14",
        "colab": {
          "base_uri": "https://localhost:8080/",
          "height": 191
        }
      },
      "source": [
        "for i in range(10):\n",
        "  #Generating random theta values\n",
        "  theta1 = rand.random() \n",
        "  theta2 = rand.random()\n",
        "  print(\"Theta 1 = \", theta1, \"Theta 2 = \", theta2, \"Cost = \", cost(theta1,theta2,struct_data))"
      ],
      "execution_count": null,
      "outputs": [
        {
          "output_type": "stream",
          "text": [
            "Theta 1 =  0.6606100412953242 Theta 2 =  0.08986885359643937 Cost =  6.369886158865485e+132\n",
            "Theta 1 =  0.4299093578659767 Theta 2 =  0.5733213533606604 Cost =  6.369886158860871e+132\n",
            "Theta 1 =  0.7211041065825657 Theta 2 =  0.8003639290729269 Cost =  6.369886158858706e+132\n",
            "Theta 1 =  0.33628996132212197 Theta 2 =  0.35432762251952 Cost =  6.36988615886296e+132\n",
            "Theta 1 =  0.04945829172765592 Theta 2 =  0.17206424922607733 Cost =  6.3698861588647e+132\n",
            "Theta 1 =  0.066179487143608 Theta 2 =  0.7131650923252338 Cost =  6.369886158859537e+132\n",
            "Theta 1 =  0.6789460640973016 Theta 2 =  0.5480345175428099 Cost =  6.369886158861113e+132\n",
            "Theta 1 =  0.22239551365065435 Theta 2 =  0.9136382791875338 Cost =  6.369886158857625e+132\n",
            "Theta 1 =  0.9298896607592152 Theta 2 =  0.7407595353992824 Cost =  6.369886158859274e+132\n",
            "Theta 1 =  0.9605961554852975 Theta 2 =  0.18976332060998546 Cost =  6.36988615886453e+132\n"
          ],
          "name": "stdout"
        }
      ]
    }
  ]
}