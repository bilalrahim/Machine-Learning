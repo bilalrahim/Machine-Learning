{
  "nbformat": 4,
  "nbformat_minor": 0,
  "metadata": {
    "colab": {
      "name": "Assignment2.ipynb",
      "provenance": [],
      "collapsed_sections": []
    },
    "kernelspec": {
      "name": "python3",
      "display_name": "Python 3"
    }
  },
  "cells": [
    {
      "cell_type": "markdown",
      "metadata": {
        "id": "85X38REicZVQ"
      },
      "source": [
        "Multivariate Linear Regression Model \\\n",
        "Bilal Rahim \\\n",
        "Desc : Finding the most suitable theta values for the given data set using **Linear Descent**"
      ]
    },
    {
      "cell_type": "code",
      "metadata": {
        "id": "nm_assCCFaYr"
      },
      "source": [
        "import numpy as np"
      ],
      "execution_count": null,
      "outputs": []
    },
    {
      "cell_type": "code",
      "metadata": {
        "id": "H_DeLRrHcSvB"
      },
      "source": [
        "from google.colab import drive\n",
        "drive.mount('/content/drive')"
      ],
      "execution_count": null,
      "outputs": []
    },
    {
      "cell_type": "code",
      "metadata": {
        "id": "wZJpDOwwc7GR"
      },
      "source": [
        "corpus = open('/content/drive/My Drive/Data Sets/student-data.txt').read()"
      ],
      "execution_count": null,
      "outputs": []
    },
    {
      "cell_type": "code",
      "metadata": {
        "id": "4L_MekeJd_07"
      },
      "source": [
        "corpus"
      ],
      "execution_count": null,
      "outputs": []
    },
    {
      "cell_type": "code",
      "metadata": {
        "id": "tlSlod6peDyE"
      },
      "source": [
        "#Pre-processing\n",
        "\n",
        "corpus = corpus.split('\\n')\n",
        "corpus.remove(corpus[0])\n",
        "data = []\n",
        "for stu in corpus:\n",
        "  temp = stu.split('\\t')\n",
        "  data.append(temp)\n",
        "temp = []\n",
        "for stud in data:\n",
        "  _,temp_split = stud[0].split(' ')\n",
        "  stud[0] = temp_split \n",
        "  stud = [1] + stud  #To insert 1 at the starting for x0.\n",
        "  stud = [float(score) for score in stud] #To convert from string to float.\n",
        "  temp.append(stud)\n",
        "data = temp"
      ],
      "execution_count": null,
      "outputs": []
    },
    {
      "cell_type": "code",
      "metadata": {
        "id": "GlszcsqaArI7",
        "outputId": "f39f3cd8-b683-4f21-be75-e3356a6611e2",
        "colab": {
          "base_uri": "https://localhost:8080/",
          "height": 712
        }
      },
      "source": [
        "data"
      ],
      "execution_count": null,
      "outputs": [
        {
          "output_type": "execute_result",
          "data": {
            "text/plain": [
              "[[1.0, 6.25, 3.75, 5.76, 7.5, 24.11, 9.0, 56.39],\n",
              " [1.0, 7.0, 4.75, 8.84, 8.5, 35.29, 9.5, 73.89],\n",
              " [1.0, 9.75, 10.0, 3.07, 6.5, 35.29, 7.5, 72.12],\n",
              " [1.0, 9.75, 9.75, 2.69, 5.5, 28.82, 5.5, 62.02],\n",
              " [1.0, 5.5, 1.5, 4.03, 8.0, 24.11, 7.5, 50.66],\n",
              " [1.0, 7.25, 5.0, 8.84, 6.5, 28.23, 7.5, 63.33],\n",
              " [1.0, 9.87, 9.75, 4.61, 10.0, 31.17, 6.5, 71.92],\n",
              " [1.0, 9.0, 9.75, 4.61, 7.5, 22.35, 7.5, 60.72],\n",
              " [1.0, 9.87, 10.0, 6.92, 10.0, 42.35, 9.0, 88.15],\n",
              " [1.0, 9.0, 8.5, 2.3, 5.0, 22.94, 6.0, 53.75],\n",
              " [1.0, 9.87, 9.75, 6.15, 9.0, 28.23, 7.0, 70.01],\n",
              " [1.0, 9.75, 9.75, 6.53, 9.0, 37.05, 9.5, 81.6],\n",
              " [1.0, 9.75, 10.0, 5.0, 5.0, 26.47, 8.0, 64.22],\n",
              " [1.0, 9.75, 10.0, 7.69, 10.0, 30.0, 10.0, 77.44],\n",
              " [1.0, 5.0, 4.75, 1.53, 5.5, 22.35, 6.0, 45.14],\n",
              " [1.0, 9.62, 8.75, 8.84, 5.0, 27.05, 10.0, 69.28],\n",
              " [1.0, 8.87, 8.5, 6.73, 6.0, 24.7, 8.0, 62.81],\n",
              " [1.0, 6.75, 8.75, 6.53, 6.0, 14.11, 5.0, 47.16],\n",
              " [1.0, 8.87, 9.75, 5.0, 9.5, 35.88, 6.0, 75.01],\n",
              " [1.0, 6.5, 9.5, 6.15, 5.5, 22.35, 6.0, 56.01],\n",
              " [1.0, 4.75, 4.25, 1.73, 7.0, 31.17, 7.5, 56.41],\n",
              " [1.0, 6.75, 4.5, 5.76, 0.0, 32.94, 6.0, 55.96],\n",
              " [1.0, 9.25, 7.25, 3.46, 7.5, 34.11, 10.0, 71.58],\n",
              " [1.0, 9.62, 9.75, 5.76, 0.0, 27.05, 6.5, 58.7],\n",
              " [1.0, 8.87, 7.5, 5.0, 0.0, 33.52, 9.5, 64.4],\n",
              " [1.0, 7.25, 7.0, 4.23, 0.0, 28.82, 8.5, 55.8],\n",
              " [1.0, 9.75, 9.75, 5.38, 8.0, 35.29, 8.5, 76.68],\n",
              " [1.0, 9.87, 9.75, 5.38, 9.0, 38.23, 9.0, 81.24],\n",
              " [1.0, 9.75, 10.0, 6.53, 6.0, 31.17, 8.0, 71.46],\n",
              " [1.0, 9.0, 7.5, 4.61, 7.0, 21.17, 5.0, 54.29],\n",
              " [1.0, 9.62, 9.75, 7.3, 6.5, 25.88, 7.0, 66.07],\n",
              " [1.0, 9.5, 9.0, 6.15, 8.0, 30.58, 5.5, 68.74],\n",
              " [1.0, 9.37, 9.0, 2.3, 6.0, 35.88, 10.0, 72.57],\n",
              " [1.0, 8.87, 8.25, 5.76, 6.0, 34.11, 6.5, 69.51],\n",
              " [1.0, 9.37, 9.25, 6.53, 5.5, 27.05, 7.0, 64.72],\n",
              " [1.0, 9.25, 9.12, 3.07, 7.5, 29.41, 5.0, 63.36],\n",
              " [1.0, 9.37, 8.12, 4.23, 6.0, 25.29, 6.0, 59.02],\n",
              " [1.0, 9.12, 5.5, 8.07, 6.0, 15.29, 7.5, 51.5],\n",
              " [1.0, 7.25, 7.87, 5.0, 0.0, 27.05, 6.0, 53.18],\n",
              " [1.0, 8.25, 3.5, 3.07, 8.0, 21.76, 7.0, 51.59]]"
            ]
          },
          "metadata": {
            "tags": []
          },
          "execution_count": 26
        }
      ]
    },
    {
      "cell_type": "markdown",
      "metadata": {
        "id": "LBxDu4N2B4UG"
      },
      "source": [
        "**Total number of features** = 6 \\\n",
        "\n",
        "**Hypothesis** \\\n",
        "**ht(x)** = 1t0 + x1 * t1 + x2 * t2t + x3 * t3 + x4 * t4 + x5 * t5 + x6 *t6 \\\n",
        "Cost Function = 1/2m sum from 0 to i (ht(xi) - y (i))^2"
      ]
    },
    {
      "cell_type": "code",
      "metadata": {
        "id": "9NneXOpaArrs"
      },
      "source": [
        "#Hypothesis Function\n",
        "def hypothesis(theta_arr,stu):\n",
        "  return theta_arr.dot(stu) #Taking dot product using numpy"
      ],
      "execution_count": null,
      "outputs": []
    },
    {
      "cell_type": "code",
      "metadata": {
        "id": "-0bynol1DsOy"
      },
      "source": [
        "#Function to calculate slope\n",
        "def slope(theta_arr, data, i):\n",
        "  sum = 0\n",
        " \n",
        "  for stu in data:\n",
        "    temp = (hypothesis(theta_arr, np.array(stu[:7])) - stu[-1])*stu[i]\n",
        "    sum += temp\n",
        "  return 1/40 * sum"
      ],
      "execution_count": null,
      "outputs": []
    },
    {
      "cell_type": "code",
      "metadata": {
        "id": "v8oPAX6QMILd"
      },
      "source": [
        "#Cost Function\n",
        "def cost_f(theta_arr, d):\n",
        "  sum = 0\n",
        " \n",
        "  for stu in data:\n",
        "    temp = (hypothesis(theta_arr, np.array(stu[:7])) - stu[-1])**2\n",
        "    sum += temp\n",
        "    \n",
        "  return 1/80 * sum"
      ],
      "execution_count": null,
      "outputs": []
    },
    {
      "cell_type": "code",
      "metadata": {
        "id": "aVwBAYlPFfAi"
      },
      "source": [
        "#Generating random theta values.\n",
        "#linspace generates random theta values.\n",
        "theta_arr = np.linspace(0,1,7) # 0 to 1, 7 random values."
      ],
      "execution_count": null,
      "outputs": []
    },
    {
      "cell_type": "code",
      "metadata": {
        "id": "9B61z0msMMkj",
        "outputId": "859f4761-78fc-4aa0-f38d-de37d3b47e42",
        "colab": {
          "base_uri": "https://localhost:8080/",
          "height": 86
        }
      },
      "source": [
        "print(\"Cost Before Gradient Descent \\nCost : \",cost_f(theta_arr,data),'\\nTheta Values : ' ,theta_arr)"
      ],
      "execution_count": null,
      "outputs": [
        {
          "output_type": "stream",
          "text": [
            "Cost Before Gradient Descent \n",
            "Cost :  247.96787020833347 \n",
            "Theta Values :  [0.         0.16666667 0.33333333 0.5        0.66666667 0.83333333\n",
            " 1.        ]\n"
          ],
          "name": "stdout"
        }
      ]
    },
    {
      "cell_type": "markdown",
      "metadata": {
        "id": "fiy2SrIduE0X"
      },
      "source": [
        "**Using Gradient Descent to minimize cost**"
      ]
    },
    {
      "cell_type": "code",
      "metadata": {
        "id": "On2Emu8KFv6S"
      },
      "source": [
        "learn_rate = 0.001 #Learning rate\n",
        "\n",
        "for j in range(0,6):\n",
        "  temp = theta_arr[j]\n",
        "  for i in range(50):\n",
        "    cost = learn_rate * slope(theta_arr,data,j)\n",
        "    temp = temp - cost\n",
        "    theta_arr[j] = temp\n"
      ],
      "execution_count": null,
      "outputs": []
    },
    {
      "cell_type": "code",
      "metadata": {
        "id": "e38JUM3SApDX",
        "outputId": "dc7d9244-2dfd-4d5a-c028-c0cf512711fa",
        "colab": {
          "base_uri": "https://localhost:8080/",
          "height": 86
        }
      },
      "source": [
        "               "
      ],
      "execution_count": null,
      "outputs": [
        {
          "output_type": "stream",
          "text": [
            "Cost After Gradient Descent \n",
            "Cost :  1.780381712678215 \n",
            "Theta values :  [1.0721384  2.54853735 0.39698514 0.53426828 0.68876954 0.82777484\n",
            " 1.        ]\n"
          ],
          "name": "stdout"
        }
      ]
    }
  ]
}